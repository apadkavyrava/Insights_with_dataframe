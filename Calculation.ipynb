{
 "cells": [
  {
   "cell_type": "code",
   "execution_count": 192,
   "id": "c3224c6c",
   "metadata": {},
   "outputs": [],
   "source": [
    "import pandas as pd"
   ]
  },
  {
   "cell_type": "code",
   "execution_count": 193,
   "id": "f655a1a5",
   "metadata": {},
   "outputs": [],
   "source": [
    "raw_data = pd.read_csv(\"../PlayBrush/Raw_data/1_rawdata.csv\")\n",
    "groups = pd.read_csv(\"../PlayBrush/Raw_data/2_groups.csv\")"
   ]
  },
  {
   "cell_type": "markdown",
   "id": "18c37a74",
   "metadata": {},
   "source": [
    "## General assumptions: (dataset cleaning)"
   ]
  },
  {
   "cell_type": "code",
   "execution_count": 194,
   "id": "78eb88b4",
   "metadata": {},
   "outputs": [
    {
     "data": {
      "text/html": [
       "<div>\n",
       "<style scoped>\n",
       "    .dataframe tbody tr th:only-of-type {\n",
       "        vertical-align: middle;\n",
       "    }\n",
       "\n",
       "    .dataframe tbody tr th {\n",
       "        vertical-align: top;\n",
       "    }\n",
       "\n",
       "    .dataframe thead th {\n",
       "        text-align: right;\n",
       "    }\n",
       "</style>\n",
       "<table border=\"1\" class=\"dataframe\">\n",
       "  <thead>\n",
       "    <tr style=\"text-align: right;\">\n",
       "      <th></th>\n",
       "      <th>PlaybrushID</th>\n",
       "      <th>TimestampUTC</th>\n",
       "      <th>UpTime</th>\n",
       "      <th>DownTime</th>\n",
       "      <th>LeftTime</th>\n",
       "      <th>RightTime</th>\n",
       "      <th>NoneTime</th>\n",
       "      <th>Unnamed: 7</th>\n",
       "    </tr>\n",
       "  </thead>\n",
       "  <tbody>\n",
       "    <tr>\n",
       "      <th>0</th>\n",
       "      <td>PB2500017115</td>\n",
       "      <td>Mon Sep 18 2017 08:03:18 GMT+0100 (BST)</td>\n",
       "      <td>6.6</td>\n",
       "      <td>0.1</td>\n",
       "      <td>0.3</td>\n",
       "      <td>0.3</td>\n",
       "      <td>5.7</td>\n",
       "      <td>NaN</td>\n",
       "    </tr>\n",
       "    <tr>\n",
       "      <th>1</th>\n",
       "      <td>PB2500017115</td>\n",
       "      <td>Mon Sep 18 2017 08:06:32 GMT+0100 (BST)</td>\n",
       "      <td>0.0</td>\n",
       "      <td>3.8</td>\n",
       "      <td>1.8</td>\n",
       "      <td>0.0</td>\n",
       "      <td>1.4</td>\n",
       "      <td>NaN</td>\n",
       "    </tr>\n",
       "  </tbody>\n",
       "</table>\n",
       "</div>"
      ],
      "text/plain": [
       "    PlaybrushID                             TimestampUTC  UpTime  DownTime  \\\n",
       "0  PB2500017115  Mon Sep 18 2017 08:03:18 GMT+0100 (BST)     6.6       0.1   \n",
       "1  PB2500017115  Mon Sep 18 2017 08:06:32 GMT+0100 (BST)     0.0       3.8   \n",
       "\n",
       "   LeftTime  RightTime  NoneTime Unnamed: 7  \n",
       "0       0.3        0.3       5.7        NaN  \n",
       "1       1.8        0.0       1.4        NaN  "
      ]
     },
     "execution_count": 194,
     "metadata": {},
     "output_type": "execute_result"
    }
   ],
   "source": [
    "raw_data.head(2)"
   ]
  },
  {
   "cell_type": "code",
   "execution_count": 195,
   "id": "0c613203",
   "metadata": {},
   "outputs": [],
   "source": [
    "raw_data = raw_data[~pd.isna(raw_data.PlaybrushID)]\n",
    "\n",
    "raw_data['TimestampUTC'] = pd.to_datetime(raw_data['TimestampUTC'])\n"
   ]
  },
  {
   "cell_type": "code",
   "execution_count": 197,
   "id": "790b2163",
   "metadata": {},
   "outputs": [],
   "source": [
    "# Morning and evening sessions\n",
    "\n",
    "raw_data['hour'] = raw_data['TimestampUTC'].dt.hour\n",
    "time_of_day = lambda row: 'evening' if row.hour > 14 else 'morning'\n",
    "raw_data['sessions'] = raw_data.apply(time_of_day, axis = 1)\n",
    "\n"
   ]
  },
  {
   "cell_type": "code",
   "execution_count": 200,
   "id": "7905fe7d",
   "metadata": {},
   "outputs": [],
   "source": [
    "# Merge brush sessions that are less than 2 minutes apart into a single brush session\n",
    "raw_data = raw_data.sort_values(['PlaybrushID', 'TimestampUTC'])\n",
    "raw_data['one_session_flag'] = ((raw_data.PlaybrushID == raw_data.PlaybrushID.shift())\n",
    "                            & ( raw_data.sessions == raw_data.sessions.shift())\n",
    "                            & ((raw_data.TimestampUTC - raw_data.TimestampUTC.shift()).astype('timedelta64[m]') < 2))\n",
    "\n",
    "raw_data['session_id'] = (raw_data.one_session_flag == False).cumsum()\n",
    "        \n",
    "        "
   ]
  },
  {
   "cell_type": "code",
   "execution_count": 201,
   "id": "e71faa70",
   "metadata": {},
   "outputs": [],
   "source": [
    "# The total length of a brush session is the sum of the up, down, left, right and none times.\n",
    "\n",
    "time_brush = raw_data[['UpTime', 'DownTime', 'LeftTime', 'RightTime', 'NoneTime']]\n",
    "\n",
    "raw_data['sub_total_time'] = time_brush.sum(axis =1)\n",
    "\n",
    "raw_data = raw_data.merge(raw_data.groupby(['PlaybrushID', 'session_id']).sub_total_time.sum().rename('total_time')\n",
    "                        , on = ['PlaybrushID', 'session_id'])"
   ]
  },
  {
   "cell_type": "code",
   "execution_count": 202,
   "id": "baf5cdb1",
   "metadata": {},
   "outputs": [],
   "source": [
    "#  Discard brush sessions that are less than 20 seconds in total\n",
    "raw_data = raw_data[raw_data.total_time >= 20]"
   ]
  },
  {
   "cell_type": "code",
   "execution_count": 239,
   "id": "7de61a64",
   "metadata": {},
   "outputs": [],
   "source": [
    "#  When a user brushes multiple times in a morning or an evening, record the longest brush and discard\n",
    "#  the others\n",
    "\n",
    "raw_data['day'] = raw_data.TimestampUTC.dt.date\n",
    "\n",
    "dataset = (raw_data.merge(raw_data.groupby(['PlaybrushID', 'day', 'sessions']).total_time.max()\n",
    "                        , on = ['PlaybrushID', 'day', 'sessions', 'total_time'], how = 'inner')\n",
    "                           [['PlaybrushID','day','sessions', 'total_time']]\n",
    "                        ).drop_duplicates()\n"
   ]
  },
  {
   "cell_type": "markdown",
   "id": "2d4735ec",
   "metadata": {},
   "source": [
    "## User Information"
   ]
  },
  {
   "cell_type": "code",
   "execution_count": 318,
   "id": "dd1ffa8a",
   "metadata": {},
   "outputs": [
    {
     "name": "stderr",
     "output_type": "stream",
     "text": [
      "/var/folders/9t/5gcr47m91839pxy0fm6mhjw00000gn/T/ipykernel_24832/620537038.py:22: FutureWarning: Series.dt.weekofyear and Series.dt.week have been deprecated.  Please use Series.dt.isocalendar().week instead.\n",
      "  dataset['week'] = dataset['day'].dt.week\n"
     ]
    }
   ],
   "source": [
    "# User information\n",
    "\n",
    "#How many times the user brushed in the morning, and in the evening for each day of the week. 0 for no\n",
    "#brush, 1 for morning or evening brush, and 2 for morning and evening brush. Multiple brushes in the\n",
    "#same morning should only be counted once.\n",
    "\n",
    "dataset['day'] = pd.to_datetime(dataset['day'])\n",
    "dataset['dow'] = dataset['day'].dt.day_name()\n",
    "\n",
    "num_of_session_dow = (pd.DataFrame(dataset.groupby(['PlaybrushID','dow'])\n",
    "                        .sessions.count().rename('num_sessions')).reset_index())\n",
    "\n",
    "#How many days in the week a user brushed twice a day. Again, twice a day represents morning and\n",
    "#evening, and not just multiple brushes.\n",
    "\n",
    "num_twice_day = (num_of_session_dow[num_of_session_dow.num_sessions >1].\n",
    "                groupby('PlaybrushID').dow.count().rename('total-brushes'))\n",
    "\n",
    "\n",
    "# The total number of valid morning and evening brush sessions in the week.\n",
    "\n",
    "dataset['week'] = dataset['day'].dt.week\n",
    "num_week = dataset.groupby(['PlaybrushID','week']).sessions.count().rename('twice-brushes')\n",
    "\n",
    "\n",
    "# The average time spent brushing per valid session in the week.\n",
    "avr_time_session = dataset.groupby(['PlaybrushID','week']).total_time.mean().rename('vg-brush-time')"
   ]
  },
  {
   "cell_type": "code",
   "execution_count": 322,
   "id": "13218a38",
   "metadata": {},
   "outputs": [],
   "source": [
    "final_table = (num_of_session_dow.pivot(index='PlaybrushID', \n",
    "                        columns='dow', values='num_sessions').reset_index())\n",
    "\n",
    "final_table = final_table.merge(groups, left_on = 'PlaybrushID', right_on = 'PBID')\n",
    "\n",
    "final_table = (final_table.merge(num_twice_day, on = 'PlaybrushID')\n",
    "                        .merge(num_week, on = 'PlaybrushID' )\n",
    "                        .merge(avr_time_session, on = 'PlaybrushID')\n",
    "                        .rename(columns = {'Monday': 'mon'\n",
    "                                          , 'Tuesday' : 'tue'\n",
    "                                          , 'Wednesday' : 'wed'\n",
    "                                          , 'Thursday' : 'thu'\n",
    "                                          , 'Friday' : 'fri'\n",
    "                                          , 'Saturday': 'sat'\n",
    "                                          , 'Sunday': 'sun'}).fillna(0))\n",
    "\n",
    "final_table = final_table[['group', 'PBID', 'mon', 'tue', 'wed', 'thu', 'fri'\n",
    "                          , 'sat', 'sun', 'total-brushes', 'twice-brushes', 'vg-brush-time']]\n",
    "final_table.to_csv('individual_metrics.csv')"
   ]
  },
  {
   "cell_type": "markdown",
   "id": "74d7cb77",
   "metadata": {},
   "source": [
    "##  Group Dynamics"
   ]
  },
  {
   "cell_type": "code",
   "execution_count": 375,
   "id": "ec269b2c",
   "metadata": {},
   "outputs": [],
   "source": [
    "\n",
    "\n",
    "# How many valid brush sessions were observed in total?\n",
    "\n",
    "dataset2 = dataset.merge(groups, left_on = 'PlaybrushID', right_on = 'PBID')\n",
    "total_sessions = pd.DataFrame(dataset2.groupby('group').sessions.count().rename('total_sessions'))\n",
    "\n",
    "# What is the average number of brushing sessions per user in that group?\n",
    "\n",
    "temp_count = pd.DataFrame(dataset2.groupby(['group', 'PBID']).sessions.count().rename('avg_sessions_per_user'))\n",
    "user_sessions = temp_count.groupby('group').avg_sessions_per_user.mean()\n",
    "\n",
    "# What is the average brushing duration per user in that group\n",
    "\n",
    "temp_long = pd.DataFrame(dataset2.groupby(['group', 'PBID']).total_time.mean().rename('avg_time_per_user'))\n",
    "user_long = temp_long.groupby('group').avg_time_per_user.mean()"
   ]
  },
  {
   "cell_type": "code",
   "execution_count": 376,
   "id": "62e74181",
   "metadata": {},
   "outputs": [],
   "source": [
    "group_data = (total_sessions.merge(user_sessions, on = 'group')\n",
    "                            .merge(user_long, on = 'group')).reset_index()"
   ]
  },
  {
   "cell_type": "code",
   "execution_count": 383,
   "id": "83001d04",
   "metadata": {},
   "outputs": [],
   "source": [
    "group_data['performance'] =( (group_data.avg_time_per_user * group_data.avg_sessions_per_user)\n",
    "                        / group_data.total_sessions)\n",
    "\n",
    "group_data = group_data.sort_values('performance', ascending= False)\n",
    "\n",
    "group_data['rank'] = group_data.performance.rank( axis = 0, ascending = False)"
   ]
  },
  {
   "cell_type": "code",
   "execution_count": 384,
   "id": "3d89e3b5",
   "metadata": {},
   "outputs": [
    {
     "data": {
      "text/html": [
       "<div>\n",
       "<style scoped>\n",
       "    .dataframe tbody tr th:only-of-type {\n",
       "        vertical-align: middle;\n",
       "    }\n",
       "\n",
       "    .dataframe tbody tr th {\n",
       "        vertical-align: top;\n",
       "    }\n",
       "\n",
       "    .dataframe thead th {\n",
       "        text-align: right;\n",
       "    }\n",
       "</style>\n",
       "<table border=\"1\" class=\"dataframe\">\n",
       "  <thead>\n",
       "    <tr style=\"text-align: right;\">\n",
       "      <th></th>\n",
       "      <th>group</th>\n",
       "      <th>total_sessions</th>\n",
       "      <th>avg_sessions_per_user</th>\n",
       "      <th>avg_time_per_user</th>\n",
       "      <th>performance</th>\n",
       "      <th>rank</th>\n",
       "    </tr>\n",
       "  </thead>\n",
       "  <tbody>\n",
       "    <tr>\n",
       "      <th>2</th>\n",
       "      <td>C</td>\n",
       "      <td>157</td>\n",
       "      <td>6.826087</td>\n",
       "      <td>71.529584</td>\n",
       "      <td>3.109982</td>\n",
       "      <td>1.0</td>\n",
       "    </tr>\n",
       "    <tr>\n",
       "      <th>3</th>\n",
       "      <td>D</td>\n",
       "      <td>160</td>\n",
       "      <td>6.153846</td>\n",
       "      <td>71.857822</td>\n",
       "      <td>2.763762</td>\n",
       "      <td>2.0</td>\n",
       "    </tr>\n",
       "    <tr>\n",
       "      <th>1</th>\n",
       "      <td>B</td>\n",
       "      <td>61</td>\n",
       "      <td>2.772727</td>\n",
       "      <td>53.249442</td>\n",
       "      <td>2.420429</td>\n",
       "      <td>3.0</td>\n",
       "    </tr>\n",
       "    <tr>\n",
       "      <th>0</th>\n",
       "      <td>A</td>\n",
       "      <td>62</td>\n",
       "      <td>2.952381</td>\n",
       "      <td>45.367659</td>\n",
       "      <td>2.160365</td>\n",
       "      <td>4.0</td>\n",
       "    </tr>\n",
       "  </tbody>\n",
       "</table>\n",
       "</div>"
      ],
      "text/plain": [
       "  group  total_sessions  avg_sessions_per_user  avg_time_per_user  \\\n",
       "2     C             157               6.826087          71.529584   \n",
       "3     D             160               6.153846          71.857822   \n",
       "1     B              61               2.772727          53.249442   \n",
       "0     A              62               2.952381          45.367659   \n",
       "\n",
       "   performance  rank  \n",
       "2     3.109982   1.0  \n",
       "3     2.763762   2.0  \n",
       "1     2.420429   3.0  \n",
       "0     2.160365   4.0  "
      ]
     },
     "execution_count": 384,
     "metadata": {},
     "output_type": "execute_result"
    }
   ],
   "source": [
    "group_data"
   ]
  },
  {
   "cell_type": "code",
   "execution_count": null,
   "id": "29de6034",
   "metadata": {},
   "outputs": [],
   "source": []
  }
 ],
 "metadata": {
  "kernelspec": {
   "display_name": "Python 3 (ipykernel)",
   "language": "python",
   "name": "python3"
  },
  "language_info": {
   "codemirror_mode": {
    "name": "ipython",
    "version": 3
   },
   "file_extension": ".py",
   "mimetype": "text/x-python",
   "name": "python",
   "nbconvert_exporter": "python",
   "pygments_lexer": "ipython3",
   "version": "3.9.7"
  }
 },
 "nbformat": 4,
 "nbformat_minor": 5
}
